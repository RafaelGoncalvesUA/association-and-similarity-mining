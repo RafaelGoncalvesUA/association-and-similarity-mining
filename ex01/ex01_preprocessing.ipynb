{
 "cells": [
  {
   "cell_type": "markdown",
   "metadata": {},
   "source": [
    "# MDLE: Assignment 1\n",
    "## Preprocessing\n",
    "Students were provided with the dataset `conditions.csv.gz` which lists conditions for a large set of patients. The file contains the following fields, with multiple non-consecutive entries for each patient:\n",
    "\n",
    "START,STOP,PATIENT,ENCOUNTER,CODE,DESCRIPTION\n",
    "- PATIENT is the patient identifier\n",
    "- CODE is a condition identifier\n",
    "- DESCRIPTION is the name of the condition\n",
    "\n",
    "As each record contains an encountered condition, the purpose of this notebook is to preprocess the data by aggregating all the conditions found in each patient into a single record and then save the resulting dataset to disk as a compressed parquet file."
   ]
  },
  {
   "cell_type": "code",
   "execution_count": 1,
   "metadata": {},
   "outputs": [],
   "source": [
    "INPUT_FILE_PATH = \"data/conditions.csv.gz\"\n",
    "OUTPUT_FILE_PATH = \"data/conditions.parquet\""
   ]
  },
  {
   "cell_type": "code",
   "execution_count": 3,
   "metadata": {},
   "outputs": [],
   "source": [
    "from pyspark.sql import SparkSession\n",
    "\n",
    "spark = SparkSession.builder.appName(\"A-Priori\").getOrCreate()"
   ]
  },
  {
   "cell_type": "code",
   "execution_count": 3,
   "metadata": {},
   "outputs": [
    {
     "name": "stderr",
     "output_type": "stream",
     "text": [
      "                                                                                \r"
     ]
    }
   ],
   "source": [
    "data = spark.read \\\n",
    "    .format(\"csv\") \\\n",
    "    .option(\"header\", \"true\") \\\n",
    "    .option(\"compression\", \"gzip\") \\\n",
    "    .load(INPUT_FILE_PATH)\n"
   ]
  },
  {
   "cell_type": "code",
   "execution_count": 4,
   "metadata": {},
   "outputs": [
    {
     "name": "stdout",
     "output_type": "stream",
     "text": [
      "+----------+----------+--------------------+--------------------+---------+--------------------+\n",
      "|     START|      STOP|             PATIENT|           ENCOUNTER|     CODE|         DESCRIPTION|\n",
      "+----------+----------+--------------------+--------------------+---------+--------------------+\n",
      "|2017-01-14|2017-03-30|09e4e8cb-29c2-4ef...|88e540ab-a7d7-47d...| 65363002|        Otitis media|\n",
      "|2012-09-15|2012-09-16|b0a03e8c-8d0f-424...|e89414dc-d0c6-478...|241929008|Acute allergic re...|\n",
      "|2018-06-17|2018-06-24|09e4e8cb-29c2-4ef...|c14325b0-f7ec-431...|444814009|Viral sinusitis (...|\n",
      "|2019-04-19|2019-09-26|09e4e8cb-29c2-4ef...|71af18ee-3157-408...| 65363002|        Otitis media|\n",
      "|2019-04-27|2019-05-18|09e4e8cb-29c2-4ef...|411d4eae-72d1-478...|444814009|Viral sinusitis (...|\n",
      "|2019-06-03|2019-08-02|09e4e8cb-29c2-4ef...|667a94d9-6aa1-4b6...| 33737001|     Fracture of rib|\n",
      "|2014-11-09|2014-11-30|b0a03e8c-8d0f-424...|53431016-43c6-46b...|444814009|Viral sinusitis (...|\n",
      "|2015-01-04|2015-01-18|b0a03e8c-8d0f-424...|fb838ab5-2805-41c...| 10509002|Acute bronchitis ...|\n",
      "|2015-03-26|      NULL|b0a03e8c-8d0f-424...|fbc7efee-c52c-4d4...|233678006|    Childhood asthma|\n",
      "|2015-08-04|2015-08-14|b0a03e8c-8d0f-424...|2c912168-e7c9-403...|195662009|Acute viral phary...|\n",
      "|2017-03-25|      NULL|b0a03e8c-8d0f-424...|c7b8d2e7-7503-420...|232353008|Perennial allergi...|\n",
      "|2017-07-06|2017-07-19|b0a03e8c-8d0f-424...|d80ec843-b8a0-4a6...|195662009|Acute viral phary...|\n",
      "|1997-07-15|2013-07-13|5420ae87-24c8-4ed...|48cf8d6c-42fd-4a0...|446096008|Perennial allergi...|\n",
      "|2011-12-07|2011-12-21|5420ae87-24c8-4ed...|e3339c56-7735-4cf...|284551006|  Laceration of foot|\n",
      "|2013-11-10|2013-11-24|5420ae87-24c8-4ed...|f6161868-7e9b-471...|283371005|Laceration of for...|\n",
      "|2016-09-24|2017-04-29|5420ae87-24c8-4ed...|0f531593-2c53-461...| 72892002|    Normal pregnancy|\n",
      "|2017-10-15|2017-10-22|5420ae87-24c8-4ed...|52d0d19a-7930-4b5...|444814009|Viral sinusitis (...|\n",
      "|2018-07-20|2018-07-29|5420ae87-24c8-4ed...|aefa8d2e-815f-43d...|195662009|Acute viral phary...|\n",
      "|2014-04-27|      NULL|bf1f30f2-27de-4b5...|14595c35-2966-465...|162864005|Body mass index 3...|\n",
      "|2015-01-09|2015-01-23|bf1f30f2-27de-4b5...|0f0455a5-829c-431...|283385000| Laceration of thigh|\n",
      "+----------+----------+--------------------+--------------------+---------+--------------------+\n",
      "only showing top 20 rows\n",
      "\n"
     ]
    }
   ],
   "source": [
    "data.show()"
   ]
  },
  {
   "cell_type": "markdown",
   "metadata": {},
   "source": [
    "#### Group entries by patient and collect all codes as a list for each patient"
   ]
  },
  {
   "cell_type": "code",
   "execution_count": 5,
   "metadata": {},
   "outputs": [
    {
     "name": "stderr",
     "output_type": "stream",
     "text": [
      "[Stage 2:>                                                          (0 + 1) / 1]\r"
     ]
    },
    {
     "name": "stdout",
     "output_type": "stream",
     "text": [
      "+--------------------+--------------------+\n",
      "|             PATIENT|          CONDITIONS|\n",
      "+--------------------+--------------------+\n",
      "|000134b3-b39d-47c...|[271737000, 20183...|\n",
      "|000217d4-7ed6-4b9...|[70704007, 65363002]|\n",
      "|0002b3ea-a505-416...|[162864005, 10509...|\n",
      "|00041ad6-1cdd-401...|[271737000, 10509...|\n",
      "|00047a67-6ec3-4e7...|[703151001, 36971...|\n",
      "|0004846e-17b1-41e...|[84757009, 370247...|\n",
      "|00053fa0-3f76-4b9...|[87433001, 429007...|\n",
      "|000555dc-8e3d-4dc...|[72892002, 400550...|\n",
      "|000562e7-d1d7-4e7...|[162864005, 59621...|\n",
      "|0005c4be-6202-421...|[162864005, 26929...|\n",
      "|0006671b-6c1b-482...|[446096008, 72892...|\n",
      "|000668eb-910f-486...|[162864005, 42825...|\n",
      "|00070946-d03b-41f...|[713197008, 27173...|\n",
      "|00073faf-a883-460...|[241929008, 44609...|\n",
      "|00095476-44f2-4b8...|[271737000, 10509...|\n",
      "|000a89f1-ab45-4a7...|[59621000, 161140...|\n",
      "|000c1354-8f8e-4e9...|[195662009, 19212...|\n",
      "|000cdee6-e734-4e9...|[62564004, 429007...|\n",
      "|000d229a-ce75-416...|[72892002, 105090...|\n",
      "|000dbb53-a0fe-43a...|[65966004, 65363002]|\n",
      "+--------------------+--------------------+\n",
      "only showing top 20 rows\n",
      "\n"
     ]
    },
    {
     "name": "stderr",
     "output_type": "stream",
     "text": [
      "                                                                                \r"
     ]
    }
   ],
   "source": [
    "from pyspark.sql.functions import collect_set\n",
    "\n",
    "conditions = data.select(\"PATIENT\", \"CODE\") \\\n",
    "    .groupBy(\"PATIENT\") \\\n",
    "    .agg(collect_set(\"CODE\").alias(\"CONDITIONS\"))\n",
    "\n",
    "conditions.show()"
   ]
  },
  {
   "cell_type": "markdown",
   "metadata": {},
   "source": [
    "#### Save data to parquet\n",
    "While CSV does not support nested data structures, Parquet allows us to store columns with lists or sets e.g. `set<string>`."
   ]
  },
  {
   "cell_type": "code",
   "execution_count": null,
   "metadata": {},
   "outputs": [],
   "source": [
    "conditions.write \\\n",
    "    .mode(\"overwrite\") \\\n",
    "    .format(\"parquet\") \\\n",
    "    .option(\"compression\", \"gzip\") \\\n",
    "    .save(OUTPUT_FILE_PATH)"
   ]
  },
  {
   "cell_type": "markdown",
   "metadata": {},
   "source": [
    "#### Delete the Spark Session"
   ]
  },
  {
   "cell_type": "code",
   "execution_count": null,
   "metadata": {},
   "outputs": [],
   "source": [
    "spark.stop()"
   ]
  }
 ],
 "metadata": {
  "kernelspec": {
   "display_name": "Python 3",
   "language": "python",
   "name": "python3"
  },
  "language_info": {
   "codemirror_mode": {
    "name": "ipython",
    "version": 3
   },
   "file_extension": ".py",
   "mimetype": "text/x-python",
   "name": "python",
   "nbconvert_exporter": "python",
   "pygments_lexer": "ipython3",
   "version": "3.10.12"
  }
 },
 "nbformat": 4,
 "nbformat_minor": 2
}
